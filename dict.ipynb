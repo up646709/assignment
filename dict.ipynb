{
 "cells": [
  {
   "cell_type": "code",
   "execution_count": 1,
   "id": "397c93f4-2015-4203-8a3e-d8c2984f84f5",
   "metadata": {},
   "outputs": [],
   "source": [
    "d = {}"
   ]
  },
  {
   "cell_type": "code",
   "execution_count": 2,
   "id": "a9d106c7-62cb-4451-80e1-6ac4a7616a45",
   "metadata": {},
   "outputs": [
    {
     "data": {
      "text/plain": [
       "dict"
      ]
     },
     "execution_count": 2,
     "metadata": {},
     "output_type": "execute_result"
    }
   ],
   "source": [
    "type(d)"
   ]
  },
  {
   "cell_type": "code",
   "execution_count": 3,
   "id": "c213d943-9d49-415c-b021-f8fc88649602",
   "metadata": {},
   "outputs": [],
   "source": [
    "d1 = {'key' : \"upend\"}"
   ]
  },
  {
   "cell_type": "code",
   "execution_count": 4,
   "id": "73a99531-197c-4096-ae51-b8b3228388be",
   "metadata": {},
   "outputs": [
    {
     "data": {
      "text/plain": [
       "{'key': 'upend'}"
      ]
     },
     "execution_count": 4,
     "metadata": {},
     "output_type": "execute_result"
    }
   ],
   "source": [
    "d1"
   ]
  },
  {
   "cell_type": "code",
   "execution_count": 5,
   "id": "59f9cff2-4abd-4b48-8ae3-4412390d964d",
   "metadata": {},
   "outputs": [],
   "source": [
    "d2 = {'name' : \"upendra \", \"email\" : \"patelamrit926@gmail.com\", \"number\" : 8960269132}"
   ]
  },
  {
   "cell_type": "code",
   "execution_count": 6,
   "id": "5d21f1da-febb-4bbc-8a21-79045b9db1d2",
   "metadata": {},
   "outputs": [
    {
     "data": {
      "text/plain": [
       "{'name': 'upendra ', 'email': 'patelamrit926@gmail.com', 'number': 8960269132}"
      ]
     },
     "execution_count": 6,
     "metadata": {},
     "output_type": "execute_result"
    }
   ],
   "source": [
    "d2"
   ]
  },
  {
   "cell_type": "code",
   "execution_count": 12,
   "id": "21e87f7e-4713-423d-9dcd-420683ac6e66",
   "metadata": {},
   "outputs": [],
   "source": [
    "d3 = {234 : \"upendra\", '@wer' : \"kunmar\" , True : 2345}"
   ]
  },
  {
   "cell_type": "code",
   "execution_count": 13,
   "id": "f0b6a128-c77a-470e-8b3b-b5dbb16d48df",
   "metadata": {},
   "outputs": [
    {
     "data": {
      "text/plain": [
       "{234: 'upendra', '@wer': 'kunmar', True: 2345}"
      ]
     },
     "execution_count": 13,
     "metadata": {},
     "output_type": "execute_result"
    }
   ],
   "source": [
    "d3"
   ]
  },
  {
   "cell_type": "code",
   "execution_count": 14,
   "id": "f9999919-b3da-444a-ab26-f57945e9b78e",
   "metadata": {},
   "outputs": [
    {
     "data": {
      "text/plain": [
       "{234: 'upendra', '@wer': 'kunmar', True: 2345}"
      ]
     },
     "execution_count": 14,
     "metadata": {},
     "output_type": "execute_result"
    }
   ],
   "source": [
    "d3"
   ]
  },
  {
   "cell_type": "code",
   "execution_count": 15,
   "id": "087df955-4610-479d-8e88-68197e0c0e4b",
   "metadata": {},
   "outputs": [
    {
     "data": {
      "text/plain": [
       "2345"
      ]
     },
     "execution_count": 15,
     "metadata": {},
     "output_type": "execute_result"
    }
   ],
   "source": [
    "d3[1]"
   ]
  },
  {
   "cell_type": "code",
   "execution_count": 18,
   "id": "60595bec-cb46-484c-ab45-13fbc55d6180",
   "metadata": {},
   "outputs": [
    {
     "data": {
      "text/plain": [
       "'upendra'"
      ]
     },
     "execution_count": 18,
     "metadata": {},
     "output_type": "execute_result"
    }
   ],
   "source": [
    "d3[234]"
   ]
  },
  {
   "cell_type": "code",
   "execution_count": 19,
   "id": "ad5bc033-9510-45e7-a124-3887c3b9c99d",
   "metadata": {},
   "outputs": [
    {
     "data": {
      "text/plain": [
       "2345"
      ]
     },
     "execution_count": 19,
     "metadata": {},
     "output_type": "execute_result"
    }
   ],
   "source": [
    "d3[True]"
   ]
  },
  {
   "cell_type": "code",
   "execution_count": 20,
   "id": "efc0e574-0db6-4337-ad69-941dddd074fb",
   "metadata": {},
   "outputs": [
    {
     "data": {
      "text/plain": [
       "2345"
      ]
     },
     "execution_count": 20,
     "metadata": {},
     "output_type": "execute_result"
    }
   ],
   "source": [
    "d3[1]"
   ]
  },
  {
   "cell_type": "code",
   "execution_count": 21,
   "id": "143b06b1-1b40-4ce6-a7be-4aaaf693aa52",
   "metadata": {},
   "outputs": [],
   "source": [
    "d4 = {'name' :\"upendra\" , 'mail_id' : \"patelamrit926@gmail.com\", \"name\" : \"upen\"}"
   ]
  },
  {
   "cell_type": "code",
   "execution_count": 22,
   "id": "a0f9b9ec-dda6-499f-bc82-46d23a984de8",
   "metadata": {},
   "outputs": [
    {
     "data": {
      "text/plain": [
       "'upen'"
      ]
     },
     "execution_count": 22,
     "metadata": {},
     "output_type": "execute_result"
    }
   ],
   "source": [
    "d4['name']"
   ]
  },
  {
   "cell_type": "code",
   "execution_count": 23,
   "id": "892d4ad3-8bbb-410e-bf6c-0b97ace40511",
   "metadata": {},
   "outputs": [],
   "source": [
    "d5 = {\"company\" : \"pwskills\", \"course\" : [\"web\", \"data\", \"java\"]}"
   ]
  },
  {
   "cell_type": "code",
   "execution_count": 24,
   "id": "e767492c-a357-47f1-bc60-5aa064afb62d",
   "metadata": {},
   "outputs": [
    {
     "data": {
      "text/plain": [
       "{'company': 'pwskills', 'course': ['web', 'data', 'java']}"
      ]
     },
     "execution_count": 24,
     "metadata": {},
     "output_type": "execute_result"
    }
   ],
   "source": [
    "d5"
   ]
  },
  {
   "cell_type": "code",
   "execution_count": 25,
   "id": "e3f08595-95b5-4ca9-b1c2-4eda60ad7956",
   "metadata": {},
   "outputs": [
    {
     "data": {
      "text/plain": [
       "['web', 'data', 'java']"
      ]
     },
     "execution_count": 25,
     "metadata": {},
     "output_type": "execute_result"
    }
   ],
   "source": [
    "d5['course']"
   ]
  },
  {
   "cell_type": "code",
   "execution_count": 26,
   "id": "bc0de765-a4a6-4adc-becb-85c5635d7230",
   "metadata": {},
   "outputs": [],
   "source": [
    "d6 = {\"number\" : [2,3,4,5,6,7,8], \"assingment\" : (1,2,3,4,5,6), \"lunch_date\" : {28,12,14}, \"class_time\": {\"webdev\": 8,\"datascience\":10}}"
   ]
  },
  {
   "cell_type": "code",
   "execution_count": 27,
   "id": "de2c02c8-cc22-4908-9e16-47e8c32e989d",
   "metadata": {},
   "outputs": [
    {
     "data": {
      "text/plain": [
       "{'number': [2, 3, 4, 5, 6, 7, 8],\n",
       " 'assingment': (1, 2, 3, 4, 5, 6),\n",
       " 'lunch_date': {12, 14, 28},\n",
       " 'class_time': {'webdev': 8, 'datascience': 10}}"
      ]
     },
     "execution_count": 27,
     "metadata": {},
     "output_type": "execute_result"
    }
   ],
   "source": [
    "d6"
   ]
  },
  {
   "cell_type": "code",
   "execution_count": 31,
   "id": "044e2dd3-7ed6-4cac-9798-90cad519feff",
   "metadata": {},
   "outputs": [
    {
     "data": {
      "text/plain": [
       "10"
      ]
     },
     "execution_count": 31,
     "metadata": {},
     "output_type": "execute_result"
    }
   ],
   "source": [
    "d6['class_time']['datascience']"
   ]
  },
  {
   "cell_type": "code",
   "execution_count": 32,
   "id": "ede2856a-c412-4e88-baab-ea8984f48508",
   "metadata": {},
   "outputs": [
    {
     "data": {
      "text/plain": [
       "{'number': [2, 3, 4, 5, 6, 7, 8],\n",
       " 'assingment': (1, 2, 3, 4, 5, 6),\n",
       " 'lunch_date': {12, 14, 28},\n",
       " 'class_time': {'webdev': 8, 'datascience': 10}}"
      ]
     },
     "execution_count": 32,
     "metadata": {},
     "output_type": "execute_result"
    }
   ],
   "source": [
    "d6"
   ]
  },
  {
   "cell_type": "code",
   "execution_count": 33,
   "id": "f79cb9c8-17eb-4425-8d27-3ac86b4384c6",
   "metadata": {},
   "outputs": [],
   "source": [
    "d6['mentor'] = [\"upnedra\", \"rudra\", \"anruga\", \"hadery\"]"
   ]
  },
  {
   "cell_type": "code",
   "execution_count": 34,
   "id": "19ded4cb-cfb4-4794-b7ce-f6cbf83939dd",
   "metadata": {},
   "outputs": [
    {
     "data": {
      "text/plain": [
       "{'number': [2, 3, 4, 5, 6, 7, 8],\n",
       " 'assingment': (1, 2, 3, 4, 5, 6),\n",
       " 'lunch_date': {12, 14, 28},\n",
       " 'class_time': {'webdev': 8, 'datascience': 10},\n",
       " 'mentor': ['upnedra', 'rudra', 'anruga', 'hadery']}"
      ]
     },
     "execution_count": 34,
     "metadata": {},
     "output_type": "execute_result"
    }
   ],
   "source": [
    "d6"
   ]
  },
  {
   "cell_type": "code",
   "execution_count": 35,
   "id": "6ba07474-2873-4a42-915a-f43da821f772",
   "metadata": {},
   "outputs": [],
   "source": [
    "del d6['mentor']"
   ]
  },
  {
   "cell_type": "code",
   "execution_count": 37,
   "id": "426c32ea-bb2e-4422-a275-56db9e47b67e",
   "metadata": {},
   "outputs": [
    {
     "data": {
      "text/plain": [
       "{'number': [2, 3, 4, 5, 6, 7, 8],\n",
       " 'assingment': (1, 2, 3, 4, 5, 6),\n",
       " 'lunch_date': {12, 14, 28},\n",
       " 'class_time': {'webdev': 8, 'datascience': 10}}"
      ]
     },
     "execution_count": 37,
     "metadata": {},
     "output_type": "execute_result"
    }
   ],
   "source": [
    "d6"
   ]
  },
  {
   "cell_type": "code",
   "execution_count": 39,
   "id": "3d1f8a42-3164-463e-8170-ca1338a8621a",
   "metadata": {},
   "outputs": [
    {
     "data": {
      "text/plain": [
       "['number', 'assingment', 'lunch_date', 'class_time']"
      ]
     },
     "execution_count": 39,
     "metadata": {},
     "output_type": "execute_result"
    }
   ],
   "source": [
    "list(d6.keys())"
   ]
  },
  {
   "cell_type": "code",
   "execution_count": 41,
   "id": "aba2bedf-e70c-4c25-a2b9-7c09feb90ade",
   "metadata": {},
   "outputs": [
    {
     "data": {
      "text/plain": [
       "dict_values([[2, 3, 4, 5, 6, 7, 8], (1, 2, 3, 4, 5, 6), {28, 12, 14}, {'webdev': 8, 'datascience': 10}])"
      ]
     },
     "execution_count": 41,
     "metadata": {},
     "output_type": "execute_result"
    }
   ],
   "source": [
    "d6.values()"
   ]
  },
  {
   "cell_type": "code",
   "execution_count": 43,
   "id": "a54d2923-428b-45b2-a43f-f096f0a499d8",
   "metadata": {},
   "outputs": [
    {
     "data": {
      "text/plain": [
       "[('number', [2, 3, 4, 5, 6, 7, 8]),\n",
       " ('assingment', (1, 2, 3, 4, 5, 6)),\n",
       " ('lunch_date', {12, 14, 28}),\n",
       " ('class_time', {'webdev': 8, 'datascience': 10})]"
      ]
     },
     "execution_count": 43,
     "metadata": {},
     "output_type": "execute_result"
    }
   ],
   "source": [
    "list(d6.items())"
   ]
  },
  {
   "cell_type": "code",
   "execution_count": 44,
   "id": "ba1a59b8-8d27-4a28-a02c-100fa7b855d8",
   "metadata": {},
   "outputs": [
    {
     "data": {
      "text/plain": [
       "(1, 2, 3, 4, 5, 6)"
      ]
     },
     "execution_count": 44,
     "metadata": {},
     "output_type": "execute_result"
    }
   ],
   "source": [
    "d6.pop('assingment')"
   ]
  },
  {
   "cell_type": "code",
   "execution_count": 45,
   "id": "f0ff10d7-aa5d-4bbf-a68c-603bb36ee11b",
   "metadata": {},
   "outputs": [
    {
     "data": {
      "text/plain": [
       "{'number': [2, 3, 4, 5, 6, 7, 8],\n",
       " 'lunch_date': {12, 14, 28},\n",
       " 'class_time': {'webdev': 8, 'datascience': 10}}"
      ]
     },
     "execution_count": 45,
     "metadata": {},
     "output_type": "execute_result"
    }
   ],
   "source": [
    "d6"
   ]
  },
  {
   "cell_type": "code",
   "execution_count": null,
   "id": "c15d916b-0204-4f76-ab62-60a39ecfa9e9",
   "metadata": {},
   "outputs": [],
   "source": []
  }
 ],
 "metadata": {
  "kernelspec": {
   "display_name": "Python 3 (ipykernel)",
   "language": "python",
   "name": "python3"
  },
  "language_info": {
   "codemirror_mode": {
    "name": "ipython",
    "version": 3
   },
   "file_extension": ".py",
   "mimetype": "text/x-python",
   "name": "python",
   "nbconvert_exporter": "python",
   "pygments_lexer": "ipython3",
   "version": "3.10.6"
  }
 },
 "nbformat": 4,
 "nbformat_minor": 5
}
